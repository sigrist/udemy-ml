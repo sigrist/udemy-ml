{
 "cells": [
  {
   "cell_type": "markdown",
   "metadata": {},
   "source": [
    "# Kernel SVM\n",
    "\n",
    "O que acontece quando não podemos passar uma reta para dividir os grupos. Imagine que um grupo de observações está dentro de outro (uma ilha cercada), resumindo, imagine uma observação que **não é linear!**\n",
    "\n",
    "\n",
    "## Higher-Dimensional Space\n",
    "\n",
    "Imagine os seguintes dados em uma dimensão\n",
    "\n",
    "<pre>\n",
    "-----|--------X--X---X------0---0--0----X---X--X---> X1\n",
    "     0                   5\n",
    "</pre>\n",
    "\n",
    "Podemos ver que os dados não são linearmente separáveis.\n",
    "\n",
    "Como funciona o mapeamento. Encontre o ponto que o grupo muda (???) - isso será o ponto `f`\n",
    "\n",
    "$$ f = x - 5 $$\n",
    "\n",
    "Agora mova o ponto 0 para ser `f`:\n",
    "<pre>\n",
    "--------------X--X---X---|--0---0--0----X---X--X---> X1\n",
    "                         0\n",
    "</pre>\n",
    "\n",
    "O próximo ponto `f` será:\n",
    "\n",
    "$$ f = (x - 5)^2 $$\n",
    "\n",
    "Isso vai criar uma parábola.\n",
    "\n",
    "Projetamos os pontos nessa parábola e então conseguimos traçar uma linha, separando os grupos:\n",
    "\n",
    "\n",
    "<pre>\n",
    "            .                                .X.\n",
    "             .                            .X.\n",
    "              X                        X..\n",
    "               .                    ...\n",
    "                .X               ..0\n",
    "                  ..          ..0\n",
    "                    .X     .0. \n",
    "                       ....\n",
    "--------------X--X---X---|--0---0--0----X---X--X---> X1\n",
    "                         0\n",
    "</pre>\n",
    "\n",
    "A mesma coisa funciona em 2 dimensões, vamos criar uma terceira dimensão e conseguimos criar um hiperplano entre as dimensões.\n",
    "\n",
    "<div class=\"alert alert-warning\">\n",
    "O problema desse algoritmo é que ele é caro, pois exige muitos cálculos matemáticos para poder gerar o hiperplano\n",
    "</div>\n",
    "\n",
    "\n",
    "### Gaussian RBF Kernel\n",
    "\n",
    "Um truque para ajudar nesse problema é o _Gaussian RBF Kernel_\n",
    "\n",
    "$$ \\huge K (\\overrightarrow{x}, \\overrightarrow{l^i}) = e ^ \\frac{||\\overrightarrow{x}-\\overrightarrow{l^i}||^2}{2\\sigma^2}$$\n",
    "\n",
    "\n",
    "`K` é o Kernel\n",
    "`x` é o vetor x\n",
    "\n",
    "`l` = landmark\n",
    "\n",
    "`e` = expoente \n",
    "`|| ... |||` é a distancia\n",
    "sigma é um parametro fixo\n",
    "\n",
    "Imagine a imagem abaixo \n",
    "\n",
    "![alt text](svm_rbf_kernel.png)\n",
    "\n",
    "[fonte](http://www.cs.toronto.edu/~duvenaud/cookbook/index.html)\n",
    "\n",
    "\n",
    "`L`, o _landmark_ está no meio e é o ponto que medimos a distancia.\n",
    "\n",
    "Imagina agora para calcular a distancia de um ponto:\n",
    "\n",
    "![alt text](svm_rbf_kernel2.png)\n",
    "\n",
    "Suponha que o resultado seja um número bem grande, quando elevamos ao quadrado, fica maior ainda. Esse número será negativo, o que derá um valor bem próximo de _zero_. Quanto mais longe do kernel, mais próximo de 0 ele fica.\n",
    "\n",
    "![alt text](svm_rbf_kernel3.png)\n",
    "\n",
    "Já para esse ponto, que a distância não é grande, o valor será próximo de 1.\n",
    "\n",
    "\n",
    "<div class=\"alert alert-info\">\n",
    "Quanto mais perto do Kernel, o valor se aproxima de 1, quanto mais longe, ele se aproxima de 0!\n",
    "</div>\n",
    "\n",
    "No exemplo do curso, quando aplicamos a fórmula do RBF, temos o seguinte resultado:\n",
    "\n",
    "![alt text](svm_rbf_kernel4.png)\n",
    "\n",
    "De acordo que aumentamos o valor de `sigma`, a base do _vulcão_ vai aumentando, e se diminuir o valor de `sigma` ela vai se estreitando. Os valores que são 0 (base azul) são as observações da categoria vermelha, e o que não é 0, ou seja, mais próximas do kernel, são as observações da categoria verde.\n",
    "\n",
    "Esse método permite achar grupos bem isolados, somando os kernels:\n",
    "\n",
    "$$ \\huge K(\\overrightarrow{x}, \\overrightarrow{l^1}) + K(\\overrightarrow{x}, \\overrightarrow{l^2}) $$\n",
    "\n",
    "assim teremos várias _montanhas_. Se os pontos forem 0 nos dois Ks, então são do grupo vermelho, se é diferente de 0, então pertence ao grupo verde (no caso do exemplo acima).\n",
    "\n",
    "### Outros tipos de Kernels\n",
    "\n",
    "![Outros tipos de Kernels](svm_types_of_kernels.png)\n",
    "\n",
    "Um site onde pode encontrar mais informações sobre os kernels é o [Machine Learning Kernels](http://mlkernels.readthedocs.io/en/stable/index.html)\n",
    "\n",
    "\n",
    "## Python"
   ]
  },
  {
   "cell_type": "code",
   "execution_count": 2,
   "metadata": {
    "collapsed": true
   },
   "outputs": [],
   "source": [
    "import numpy as np\n",
    "import pandas as pd\n",
    "import matplotlib.pyplot as plt"
   ]
  },
  {
   "cell_type": "code",
   "execution_count": 3,
   "metadata": {
    "collapsed": false
   },
   "outputs": [],
   "source": [
    "# Create the dataset and X and y datasets\n",
    "dataset = pd.read_csv('Social_Network_Ads.csv')\n",
    "X = dataset.iloc[:,[2,3]].values\n",
    "y = dataset.iloc[:,4].values"
   ]
  },
  {
   "cell_type": "code",
   "execution_count": 4,
   "metadata": {
    "collapsed": true
   },
   "outputs": [],
   "source": [
    "# Split the dataset into train and test\n",
    "from sklearn.cross_validation import train_test_split\n",
    "\n",
    "X_train, X_test, y_train, y_test = train_test_split(X, y, test_size = 0.25, random_state = 0)"
   ]
  },
  {
   "cell_type": "code",
   "execution_count": 5,
   "metadata": {
    "collapsed": false
   },
   "outputs": [
    {
     "name": "stderr",
     "output_type": "stream",
     "text": [
      "/opt/anaconda3/lib/python3.5/site-packages/sklearn/utils/validation.py:420: DataConversionWarning: Data with input dtype int64 was converted to float64 by StandardScaler.\n",
      "  warnings.warn(msg, DataConversionWarning)\n",
      "/opt/anaconda3/lib/python3.5/site-packages/sklearn/utils/validation.py:420: DataConversionWarning: Data with input dtype int64 was converted to float64 by StandardScaler.\n",
      "  warnings.warn(msg, DataConversionWarning)\n",
      "/opt/anaconda3/lib/python3.5/site-packages/sklearn/utils/validation.py:420: DataConversionWarning: Data with input dtype int64 was converted to float64 by StandardScaler.\n",
      "  warnings.warn(msg, DataConversionWarning)\n"
     ]
    }
   ],
   "source": [
    "# Feature Scalling - necessario para o SVR\n",
    "from sklearn.preprocessing import StandardScaler\n",
    "\n",
    "sc_X = StandardScaler()\n",
    "X_train = sc_X.fit_transform(X_train)\n",
    "X_test = sc_X.transform(X_test)"
   ]
  },
  {
   "cell_type": "code",
   "execution_count": 6,
   "metadata": {
    "collapsed": false
   },
   "outputs": [
    {
     "data": {
      "text/plain": [
       "SVC(C=1.0, cache_size=200, class_weight=None, coef0=0.0,\n",
       "  decision_function_shape=None, degree=3, gamma='auto', kernel='rbf',\n",
       "  max_iter=-1, probability=False, random_state=0, shrinking=True,\n",
       "  tol=0.001, verbose=False)"
      ]
     },
     "execution_count": 6,
     "metadata": {},
     "output_type": "execute_result"
    }
   ],
   "source": [
    "# Fitting SVM to the Training set\n",
    "from sklearn.svm import SVC\n",
    "\n",
    "# Vamos usar o kernel RBD\n",
    "# Se quiser variar o gamma, o parametro é gamma, que o valor padrão é 1/n_features\n",
    "classifier = SVC(kernel = 'rbf', random_state = 0)\n",
    "\n",
    "classifier.fit(X_train, y_train)"
   ]
  },
  {
   "cell_type": "code",
   "execution_count": 7,
   "metadata": {
    "collapsed": false
   },
   "outputs": [
    {
     "data": {
      "text/plain": [
       "array([0, 0, 0, 0, 0, 0, 0, 1, 0, 1, 0, 0, 0, 0, 0, 1, 0, 0, 1, 0, 0, 1, 0,\n",
       "       1, 0, 1, 0, 0, 0, 0, 0, 0, 1, 0, 0, 0, 0, 0, 0, 1, 0, 0, 0, 0, 1, 0,\n",
       "       0, 1, 0, 1, 1, 0, 0, 1, 1, 1, 0, 0, 1, 0, 0, 1, 0, 1, 0, 1, 0, 0, 0,\n",
       "       0, 1, 0, 0, 1, 0, 0, 0, 0, 1, 1, 1, 1, 0, 0, 1, 0, 0, 1, 1, 0, 0, 1,\n",
       "       0, 0, 0, 0, 0, 1, 1, 1])"
      ]
     },
     "execution_count": 7,
     "metadata": {},
     "output_type": "execute_result"
    }
   ],
   "source": [
    "# Predicting the test set results\n",
    "y_pred = classifier.predict(X_test)\n",
    "y_pred"
   ]
  },
  {
   "cell_type": "markdown",
   "metadata": {},
   "source": [
    "### Evaluating the results\n",
    "\n",
    "Criando a _Confusion Matrix_"
   ]
  },
  {
   "cell_type": "code",
   "execution_count": 8,
   "metadata": {
    "collapsed": false
   },
   "outputs": [
    {
     "data": {
      "text/plain": [
       "array([[64,  4],\n",
       "       [ 3, 29]])"
      ]
     },
     "execution_count": 8,
     "metadata": {},
     "output_type": "execute_result"
    }
   ],
   "source": [
    "from sklearn.metrics import confusion_matrix\n",
    "\n",
    "cm = confusion_matrix(y_test, y_pred)\n",
    "cm"
   ]
  },
  {
   "cell_type": "markdown",
   "metadata": {},
   "source": [
    "### Visualizando os resultados"
   ]
  },
  {
   "cell_type": "code",
   "execution_count": 10,
   "metadata": {
    "collapsed": false
   },
   "outputs": [
    {
     "data": {
      "image/png": "[encoded data removed]",
      "text/plain": [
       "<matplotlib.figure.Figure at 0x1190b6f28>"
      ]
     },
     "metadata": {},
     "output_type": "display_data"
    }
   ],
   "source": [
    "from matplotlib.colors import ListedColormap\n",
    "\n",
    "X_set, y_set = X_train, y_train\n",
    "\n",
    "X1, X2 = np.meshgrid(np.arange(start = X_set[:, 0].min() -1, stop = X_set[:, 0].max() +1, step = 0.01), \n",
    "np.arange(start = X_set[:, 1].min() -1, stop = X_set[:, 1].max() +1, step = 0.01))\n",
    "    \n",
    "plt.contourf(X1, X2, classifier.predict(np.array([X1.ravel(), X2.ravel()]).T).reshape(X1.shape),\n",
    "            alpha = 0.75, cmap = ListedColormap(('red', 'green')))\n",
    "plt.xlim(X1.min(), X1.max())\n",
    "plt.ylim(X2.min(), X2.max())\n",
    "\n",
    "for i,j in enumerate(np.unique(y_set)):\n",
    "    plt.scatter(X_set[y_set == j,0], X_set[y_set == j, 1], c = ListedColormap(('yellow', 'blue'))(i), label = j)\n",
    "    \n",
    "plt.title('SVM RBF (Training Set)')\n",
    "plt.xlabel('Age')\n",
    "plt.ylabel('Estimated Salary')\n",
    "plt.legend()\n",
    "plt.show()"
   ]
  },
  {
   "cell_type": "markdown",
   "metadata": {},
   "source": [
    "* Os pontos são as pontos de observação do training set\n",
    "* A região vermelha é a prevista de purchased 0 (não comprou) e a verde é 1 (que comprou)\n",
    "* Pontos amarelos não compraram, e os azuis compraram\n",
    "\n",
    "Observações:\n",
    "\n",
    "* Os que tem pouca idade, e pouco salário, não compraram o carro\n",
    "* Os mais velhos, e com salário maior, compraram o carro\n",
    "\n",
    "\n",
    "Agora para os dados de teste:"
   ]
  },
  {
   "cell_type": "code",
   "execution_count": 11,
   "metadata": {
    "collapsed": false
   },
   "outputs": [
    {
     "data": {
      "image/png": "[encoded data removed]",
      "text/plain": [
       "<matplotlib.figure.Figure at 0x1190b9b70>"
      ]
     },
     "metadata": {},
     "output_type": "display_data"
    }
   ],
   "source": [
    "from matplotlib.colors import ListedColormap\n",
    "\n",
    "X_set, y_set = X_test, y_test\n",
    "\n",
    "# Pega o menor do valor do X_Set e do maior valor, e incrementa 0.01\n",
    "X1, X2 = np.meshgrid(np.arange(start = X_set[:, 0].min() -1, stop = X_set[:, 0].max() +1, step = 0.01), \n",
    "np.arange(start = X_set[:, 1].min() -1, stop = X_set[:, 1].max() +1, step = 0.01))\n",
    "\n",
    "# Para cada pixel do grafico, aplica o predict, para pintar de vermelho ou verde\n",
    "plt.contourf(X1, X2, classifier.predict(np.array([X1.ravel(), X2.ravel()]).T).reshape(X1.shape),\n",
    "            alpha = 0.75, cmap = ListedColormap(('red', 'green')))\n",
    "plt.xlim(X1.min(), X1.max())\n",
    "plt.ylim(X2.min(), X2.max())\n",
    "\n",
    "for i,j in enumerate(np.unique(y_set)):\n",
    "    plt.scatter(X_set[y_set == j,0], X_set[y_set == j, 1], c = ListedColormap(('yellow', 'blue'))(i), label = j)\n",
    "    \n",
    "plt.title('SVM RBF (Test Set)')\n",
    "plt.xlabel('Age')\n",
    "plt.ylabel('Estimated Salary')\n",
    "plt.legend()\n",
    "plt.show()"
   ]
  },
  {
   "cell_type": "code",
   "execution_count": null,
   "metadata": {
    "collapsed": true
   },
   "outputs": [],
   "source": []
  }
 ],
 "metadata": {
  "anaconda-cloud": {},
  "kernelspec": {
   "display_name": "Python [conda root]",
   "language": "python",
   "name": "conda-root-py"
  },
  "language_info": {
   "codemirror_mode": {
    "name": "ipython",
    "version": 3
   },
   "file_extension": ".py",
   "mimetype": "text/x-python",
   "name": "python",
   "nbconvert_exporter": "python",
   "pygments_lexer": "ipython3",
   "version": "3.5.2"
  }
 },
 "nbformat": 4,
 "nbformat_minor": 1
}
