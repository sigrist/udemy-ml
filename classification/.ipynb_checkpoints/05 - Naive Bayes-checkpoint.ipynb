{
 "cells": [
  {
   "cell_type": "markdown",
   "metadata": {},
   "source": [
    "# Naive Bayes\n",
    "\n",
    "Imagine 2 maquinas que fabricam chave inglesa. E cada chave tem uma marca de qual máquina que o fabricou.\n",
    "\n",
    "Qual a probabilidade de uma maquina (m2) fabricar uma chave inglesa com defeito?\n",
    "\n",
    "O Teorema de Bayes é o seguinte:\n",
    "\n",
    "$$ \\large P(A|B) = \\frac{P(B|A) * P(A)}{P(B)} $$\n",
    "\n",
    "*Lemos: Probabilidade de A dado condição B*\n",
    "\n",
    "\n",
    "O que temos até agora?\n",
    "\n",
    "* M1 fabrica 30 chaves por hora. M2 fabrica 20 chaves por hora.\n",
    "* Sabemos que 1% do total de chaves fabricadas, tem defeitos.\n",
    "* Podemos ver que 50% vem da M1 e outros 50% da M2\n",
    "\n",
    "**Question:** Qual a probabilidade de um item produzido pela M2 ter defeito?\n",
    "\n",
    "<pre>\n",
    "P(M1) = 30/50 ==> 0.6\n",
    "P(M2) = 20/50 ==> 0.4\n",
    "P(Defect) = 1%\n",
    "\n",
    "\n",
    "P(M1 | Defect) = 50%\n",
    "P(M2 | Defect) = 50%\n",
    "</pre>\n",
    "\n",
    "Lembrando a questão, então temos:\n",
    "\n",
    "<pre>\n",
    "P(Defect | M2) = ?\n",
    "</pre>\n",
    "\n",
    "**Resolvendo a questão**\n",
    "\n",
    "<pre>\n",
    "P(M2) = 20/50 ==> 0.4\n",
    "P(Defect) = 1%\n",
    "P(M2 | Defect) = 50%\n",
    "P(Defect | M2) = ?\n",
    "</pre>\n",
    "\n",
    "Temos os valores, sendo que o **A** é o Defect, e **B** é o M2. Substituindo na fórmula acima, temos:\n",
    "\n",
    "$$ \\large P(Defect|M2) = \\frac{P(M2|Defect) * P(Defect)}{P(M2)} $$\n",
    "\n",
    "Substituindo os valores:\n",
    "\n",
    "$$ \\large P(Defect|M2) = \\frac{0.5 * 0.01}{0.4} $$\n",
    "\n",
    "Resultado final:\n",
    "\n",
    "$$ \\large P(Defect|M2) = 0.0125 $$\n",
    "\n",
    "A cada 1000 peças, 125 são defeituosas, para a máquina M2.\n",
    "\n",
    "**Olhando o exemplo**\n",
    "\n",
    "* 1000 peças fabricadas no total\n",
    "* 400 são feitas pela M2\n",
    "* 1% o total tem defeito (ou seja, 10)\n",
    "* 50% das defeituosas, são da M2 (ou seja, 5)\n",
    "* % defeituoso da M2 = 5/400 = 1.25%\n",
    "\n",
    "(essa linha e pensamento, é exatamente a fórmula que acabamos de executar)\n",
    "\n",
    "** Exercício **\n",
    "\n",
    "Calcular o P(Defect | M1)\n",
    "\n",
    "<pre>\n",
    "P(M1) = 30/50 ==> 0.6\n",
    "P(Defect) = 1%\n",
    "P(M1 | Defect) = 50%\n",
    "P(Defect | M1) = ?\n",
    "\n",
    "P(Defect | M1) = (P(M1|Defect) * P(Defect))/(P(M1)\n",
    "P(Defect | M1) = (0.05 * 0.01)/0.6\n",
    "P(Defect | M1) = 0.83%\n",
    "</pre>\n",
    "\n",
    "## Classificador Naïve Bayes \n",
    "\n",
    "Imagine um dataset que seja Salário x Idade, categorizados em pessoas que vão trabalhar a pé (walks) ou de carro (drives).\n",
    "\n",
    "![Dados](naive_bayes1.png \"Dados\")\n",
    "\n",
    "Calcular a probabilidade para as duas categorias:\n",
    "\n",
    "\n",
    "$$ \\large P(Walks|X) = \\frac{P(X|Walks) * P(Walks)}{P(X)} $$\n",
    "$$ \\large P(Drives|X) = \\frac{P(X|Drives) * P(Drives)}{P(X)} $$\n",
    "\n",
    "\n",
    "Para poder calcular cada item, vamos seguir a seguinte ordem:\n",
    "\n",
    "1. Calcular _P(Walks)_, que é conhecido como _Prior Probability_\n",
    "2. Calulcar _P(X)_, que é conhecido como _Marginal Likelihood_\n",
    "3. Calcular _P(X|Walks), que é conhecido como _Likelihood_\n",
    "4. Finalmente _P(Walks|X)_, conhecido como _Posterior Probability_\n",
    "\n",
    "**Efetuando os calculos**\n",
    "\n",
    "1. Para achar o _P(Walks)_ é o total de pessoas que andam dividido pelo total observado:\n",
    "\n",
    "$$ P(Walks) = \\frac{Number of Walkers}{Total Observations} $$\n",
    "$$ P(Walks) = \\frac{10}{30} $$\n",
    "\n",
    "\n",
    "2. Para achar o _P(X)_, desenhamos um círculo com raio a ser definido no ponto que queremos categorizar e contamos a quantidade de itens dentro desse círculo e dividimos pelo total de observações.\n",
    "\n",
    "![Dados](naive_bayes2.png \"Dados\")\n",
    "_O ponto a ser observado foi removido (veja na figura acima), para facilitar a observação_\n",
    "\n",
    "Portanto, temos:\n",
    "\n",
    "$$ P(X) = \\frac{Number of Similar Observations}{Total Observations}$$\n",
    "$$ P(X) = \\frac{4}{30}$$\n",
    "\n",
    "\n",
    "\n",
    "3. Para achar o _P(X|Walks)_, desenhe o mesmo círculo do passo anterior, com o mesmo raio escolhido. Ai veja os itens dentro desse círculo e conte quantos pertences para a categoria que está calculando a probabilidade, depois divida pelo total de pessoasl que andam\n",
    "\n",
    "![Dados](naive_bayes2.png \"Dados\")\n",
    "\n",
    "Temos:\n",
    "\n",
    "$$ P(X|Walks) = \\frac{Number of Similar Observations Among those who walk}{Total number of walkers}$$\n",
    "$$ P(X|Walks) = \\frac{3}{10}$$\n",
    "\n",
    "\n",
    "\n",
    "4. Agora que temos todas as variáveis da nossa fórmula, podemos calcular _P(Walks|X)_\n",
    "\n",
    "$$ \\large P(Walks|X) = \\frac{\\frac{3}{10} * \\frac{10}{30}}{\\frac{4}{30}} = 0.75 $$\n",
    "\n",
    "\n",
    "Agora, fazemos a mesma coisa para _P(Drives|X)_:\n",
    "\n",
    "$$ \\large P(Drives|X) = \\frac{\\frac{1}{20} * \\frac{20}{30}}{\\frac{4}{30}} = 0.25 $$\n",
    "\n",
    "\n",
    "\n",
    "Agora comparamos as duas probabilidades:\n",
    "\n",
    "$$ \\Large P(Walks|X) vs. P(Drives|X) $$\n",
    "\n",
    "$$ \\Large 0.75 vs. 0.25 $$\n",
    "\n",
    "Portanto, o ponto X vai ser classificado como **Walks**.\n",
    "\n",
    "\n",
    "## Python"
   ]
  },
  {
   "cell_type": "code",
   "execution_count": 1,
   "metadata": {
    "collapsed": true
   },
   "outputs": [],
   "source": [
    "import numpy as np\n",
    "import pandas as pd\n",
    "import matplotlib.pyplot as plt"
   ]
  },
  {
   "cell_type": "code",
   "execution_count": 2,
   "metadata": {
    "collapsed": false
   },
   "outputs": [],
   "source": [
    "# Create the dataset and X and y datasets\n",
    "dataset = pd.read_csv('Social_Network_Ads.csv')\n",
    "X = dataset.iloc[:,[2,3]].values\n",
    "y = dataset.iloc[:,4].values"
   ]
  },
  {
   "cell_type": "code",
   "execution_count": 3,
   "metadata": {
    "collapsed": true
   },
   "outputs": [],
   "source": [
    "# Split the dataset into train and test\n",
    "from sklearn.cross_validation import train_test_split\n",
    "\n",
    "X_train, X_test, y_train, y_test = train_test_split(X, y, test_size = 0.25, random_state = 0)"
   ]
  },
  {
   "cell_type": "code",
   "execution_count": 4,
   "metadata": {
    "collapsed": false
   },
   "outputs": [
    {
     "name": "stderr",
     "output_type": "stream",
     "text": [
      "/opt/anaconda3/lib/python3.5/site-packages/sklearn/utils/validation.py:420: DataConversionWarning: Data with input dtype int64 was converted to float64 by StandardScaler.\n",
      "  warnings.warn(msg, DataConversionWarning)\n",
      "/opt/anaconda3/lib/python3.5/site-packages/sklearn/utils/validation.py:420: DataConversionWarning: Data with input dtype int64 was converted to float64 by StandardScaler.\n",
      "  warnings.warn(msg, DataConversionWarning)\n",
      "/opt/anaconda3/lib/python3.5/site-packages/sklearn/utils/validation.py:420: DataConversionWarning: Data with input dtype int64 was converted to float64 by StandardScaler.\n",
      "  warnings.warn(msg, DataConversionWarning)\n"
     ]
    }
   ],
   "source": [
    "# Feature Scalling - necessario para o SVR\n",
    "from sklearn.preprocessing import StandardScaler\n",
    "\n",
    "sc_X = StandardScaler()\n",
    "X_train = sc_X.fit_transform(X_train)\n",
    "X_test = sc_X.transform(X_test)"
   ]
  },
  {
   "cell_type": "code",
   "execution_count": 7,
   "metadata": {
    "collapsed": false
   },
   "outputs": [
    {
     "data": {
      "text/plain": [
       "GaussianNB()"
      ]
     },
     "execution_count": 7,
     "metadata": {},
     "output_type": "execute_result"
    }
   ],
   "source": [
    "# Fitting Naive Bayes to the Training set\n",
    "from sklearn.naive_bayes import GaussianNB\n",
    "\n",
    "# Vamos usar o kernel RBD\n",
    "# Se quiser variar o gamma, o parametro é gamma, que o valor padrão é 1/n_features\n",
    "classifier = GaussianNB()\n",
    "\n",
    "classifier.fit(X_train, y_train)"
   ]
  },
  {
   "cell_type": "code",
   "execution_count": 8,
   "metadata": {
    "collapsed": false
   },
   "outputs": [
    {
     "data": {
      "text/plain": [
       "array([0, 0, 0, 0, 0, 0, 0, 1, 0, 1, 0, 0, 0, 0, 0, 0, 0, 0, 1, 0, 0, 1, 0,\n",
       "       1, 0, 1, 0, 0, 0, 0, 0, 0, 1, 0, 0, 0, 0, 0, 0, 1, 0, 0, 0, 0, 1, 0,\n",
       "       0, 1, 0, 1, 1, 0, 0, 1, 1, 0, 0, 0, 1, 0, 0, 1, 0, 0, 0, 1, 0, 0, 0,\n",
       "       0, 1, 0, 0, 0, 0, 0, 0, 0, 1, 1, 1, 1, 0, 0, 1, 0, 0, 1, 0, 0, 0, 1,\n",
       "       0, 0, 0, 0, 0, 1, 1, 1])"
      ]
     },
     "execution_count": 8,
     "metadata": {},
     "output_type": "execute_result"
    }
   ],
   "source": [
    "# Predicting the test set results\n",
    "y_pred = classifier.predict(X_test)\n",
    "y_pred"
   ]
  },
  {
   "cell_type": "markdown",
   "metadata": {},
   "source": [
    "### Evaluating the results\n",
    "\n",
    "Criando a _Confusion Matrix_"
   ]
  },
  {
   "cell_type": "code",
   "execution_count": 9,
   "metadata": {
    "collapsed": false
   },
   "outputs": [
    {
     "data": {
      "text/plain": [
       "array([[65,  3],\n",
       "       [ 7, 25]])"
      ]
     },
     "execution_count": 9,
     "metadata": {},
     "output_type": "execute_result"
    }
   ],
   "source": [
    "from sklearn.metrics import confusion_matrix\n",
    "\n",
    "cm = confusion_matrix(y_test, y_pred)\n",
    "cm"
   ]
  },
  {
   "cell_type": "markdown",
   "metadata": {},
   "source": [
    "### Visualizando os resultados"
   ]
  },
  {
   "cell_type": "code",
   "execution_count": 10,
   "metadata": {
    "collapsed": false
   },
   "outputs": [
    {
     "data": {
      "image/png": "[encoded data removed]",
      "text/plain": [
       "<matplotlib.figure.Figure at 0x112c19d30>"
      ]
     },
     "metadata": {},
     "output_type": "display_data"
    }
   ],
   "source": [
    "from matplotlib.colors import ListedColormap\n",
    "\n",
    "X_set, y_set = X_train, y_train\n",
    "\n",
    "X1, X2 = np.meshgrid(np.arange(start = X_set[:, 0].min() -1, stop = X_set[:, 0].max() +1, step = 0.01), \n",
    "np.arange(start = X_set[:, 1].min() -1, stop = X_set[:, 1].max() +1, step = 0.01))\n",
    "    \n",
    "plt.contourf(X1, X2, classifier.predict(np.array([X1.ravel(), X2.ravel()]).T).reshape(X1.shape),\n",
    "            alpha = 0.75, cmap = ListedColormap(('red', 'green')))\n",
    "plt.xlim(X1.min(), X1.max())\n",
    "plt.ylim(X2.min(), X2.max())\n",
    "\n",
    "for i,j in enumerate(np.unique(y_set)):\n",
    "    plt.scatter(X_set[y_set == j,0], X_set[y_set == j, 1], c = ListedColormap(('yellow', 'blue'))(i), label = j)\n",
    "    \n",
    "plt.title('Naive Bayes (Training Set)')\n",
    "plt.xlabel('Age')\n",
    "plt.ylabel('Estimated Salary')\n",
    "plt.legend()\n",
    "plt.show()"
   ]
  },
  {
   "cell_type": "markdown",
   "metadata": {},
   "source": [
    "* Os pontos são as pontos de observação do training set\n",
    "* A região vermelha é a prevista de purchased 0 (não comprou) e a verde é 1 (que comprou)\n",
    "* Pontos amarelos não compraram, e os azuis compraram\n",
    "\n",
    "Observações:\n",
    "\n",
    "* Os que tem pouca idade, e pouco salário, não compraram o carro\n",
    "* Os mais velhos, e com salário maior, compraram o carro\n",
    "\n",
    "\n",
    "Agora para os dados de teste:"
   ]
  },
  {
   "cell_type": "code",
   "execution_count": 11,
   "metadata": {
    "collapsed": false
   },
   "outputs": [
    {
     "data": {
      "image/png": "[encoded data removed]",
      "text/plain": [
       "<matplotlib.figure.Figure at 0x11892a470>"
      ]
     },
     "metadata": {},
     "output_type": "display_data"
    }
   ],
   "source": [
    "from matplotlib.colors import ListedColormap\n",
    "\n",
    "X_set, y_set = X_test, y_test\n",
    "\n",
    "# Pega o menor do valor do X_Set e do maior valor, e incrementa 0.01\n",
    "X1, X2 = np.meshgrid(np.arange(start = X_set[:, 0].min() -1, stop = X_set[:, 0].max() +1, step = 0.01), \n",
    "np.arange(start = X_set[:, 1].min() -1, stop = X_set[:, 1].max() +1, step = 0.01))\n",
    "\n",
    "# Para cada pixel do grafico, aplica o predict, para pintar de vermelho ou verde\n",
    "plt.contourf(X1, X2, classifier.predict(np.array([X1.ravel(), X2.ravel()]).T).reshape(X1.shape),\n",
    "            alpha = 0.75, cmap = ListedColormap(('red', 'green')))\n",
    "plt.xlim(X1.min(), X1.max())\n",
    "plt.ylim(X2.min(), X2.max())\n",
    "\n",
    "for i,j in enumerate(np.unique(y_set)):\n",
    "    plt.scatter(X_set[y_set == j,0], X_set[y_set == j, 1], c = ListedColormap(('yellow', 'blue'))(i), label = j)\n",
    "    \n",
    "plt.title('Naive Bayes (Test Set)')\n",
    "plt.xlabel('Age')\n",
    "plt.ylabel('Estimated Salary')\n",
    "plt.legend()\n",
    "plt.show()"
   ]
  },
  {
   "cell_type": "code",
   "execution_count": null,
   "metadata": {
    "collapsed": true
   },
   "outputs": [],
   "source": []
  }
 ],
 "metadata": {
  "anaconda-cloud": {},
  "kernelspec": {
   "display_name": "Python [conda root]",
   "language": "python",
   "name": "conda-root-py"
  },
  "language_info": {
   "codemirror_mode": {
    "name": "ipython",
    "version": 3
   },
   "file_extension": ".py",
   "mimetype": "text/x-python",
   "name": "python",
   "nbconvert_exporter": "python",
   "pygments_lexer": "ipython3",
   "version": "3.5.2"
  }
 },
 "nbformat": 4,
 "nbformat_minor": 1
}
