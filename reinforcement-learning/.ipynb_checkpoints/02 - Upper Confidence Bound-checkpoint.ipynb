{
 "cells": [
  {
   "cell_type": "markdown",
   "metadata": {},
   "source": [
    "# Upper Confidence Bound\n",
    "\n",
    "Imagine as 5 máquinas caça-níquel com a seguinte destribuição de resultados:\n",
    "\n",
    "![](rl-01.png)\n",
    "\n",
    "Sabemos que a melhor é **D5**. Mas como descobrir isso?\n",
    "\n",
    "O primeiro passo é criar uma área de confiança para todas as distrubuições:\n",
    "\n",
    "![](rl-02.png)\n",
    "\n",
    "O retangulo é a área de confiança, o tracejado vermelho é o ponto ideal, e as linhas coloridas é o resultado da distribuição (no caso, não sabemos previamente esse valor, vamos descobrir).\n",
    "\n",
    "O próximo passo é pegar a distribuição com a confiança mais alta (no caso, todos tem o mesmo valor, então pega qualquer uma) e aplica uma rodada de valor. No caso, pegamos o **D3** e o valor foi negativo (não clicamos no banner ou não ganhamos na máquina caça níquel, por exemplo). Então colocamos uma punição, baixando seu nível de confiança e diminuimos o tamanho da caixa, pois já sabemos o resultado de uma distribuição:\n",
    "\n",
    "![](rl-03.png)\n",
    "\n",
    "O próximo passo é executar o mesmo processo. Temos 4 distribuições com o mesmo valor de confiança. Pegamos qq uma. Repetimos esse processo até o tamanho da caixa ser pequeno.\n",
    "\n",
    "![](rl-04.png)\n",
    "\n",
    "Pronto, achamos a melhor distribuição: **D5**\n",
    "\n",
    "## Python\n"
   ]
  },
  {
   "cell_type": "code",
   "execution_count": 1,
   "metadata": {
    "collapsed": true
   },
   "outputs": [],
   "source": [
    "import numpy as np\n",
    "import matplotlib.pyplot as plt\n",
    "import pandas as pd"
   ]
  },
  {
   "cell_type": "code",
   "execution_count": 2,
   "metadata": {
    "collapsed": false
   },
   "outputs": [
    {
     "data": {
      "text/html": [
       "<div>\n",
       "<table border=\"1\" class=\"dataframe\">\n",
       "  <thead>\n",
       "    <tr style=\"text-align: right;\">\n",
       "      <th></th>\n",
       "      <th>Ad 1</th>\n",
       "      <th>Ad 2</th>\n",
       "      <th>Ad 3</th>\n",
       "      <th>Ad 4</th>\n",
       "      <th>Ad 5</th>\n",
       "      <th>Ad 6</th>\n",
       "      <th>Ad 7</th>\n",
       "      <th>Ad 8</th>\n",
       "      <th>Ad 9</th>\n",
       "      <th>Ad 10</th>\n",
       "    </tr>\n",
       "  </thead>\n",
       "  <tbody>\n",
       "    <tr>\n",
       "      <th>0</th>\n",
       "      <td>1</td>\n",
       "      <td>0</td>\n",
       "      <td>0</td>\n",
       "      <td>0</td>\n",
       "      <td>1</td>\n",
       "      <td>0</td>\n",
       "      <td>0</td>\n",
       "      <td>0</td>\n",
       "      <td>1</td>\n",
       "      <td>0</td>\n",
       "    </tr>\n",
       "    <tr>\n",
       "      <th>1</th>\n",
       "      <td>0</td>\n",
       "      <td>0</td>\n",
       "      <td>0</td>\n",
       "      <td>0</td>\n",
       "      <td>0</td>\n",
       "      <td>0</td>\n",
       "      <td>0</td>\n",
       "      <td>0</td>\n",
       "      <td>1</td>\n",
       "      <td>0</td>\n",
       "    </tr>\n",
       "    <tr>\n",
       "      <th>2</th>\n",
       "      <td>0</td>\n",
       "      <td>0</td>\n",
       "      <td>0</td>\n",
       "      <td>0</td>\n",
       "      <td>0</td>\n",
       "      <td>0</td>\n",
       "      <td>0</td>\n",
       "      <td>0</td>\n",
       "      <td>0</td>\n",
       "      <td>0</td>\n",
       "    </tr>\n",
       "    <tr>\n",
       "      <th>3</th>\n",
       "      <td>0</td>\n",
       "      <td>1</td>\n",
       "      <td>0</td>\n",
       "      <td>0</td>\n",
       "      <td>0</td>\n",
       "      <td>0</td>\n",
       "      <td>0</td>\n",
       "      <td>1</td>\n",
       "      <td>0</td>\n",
       "      <td>0</td>\n",
       "    </tr>\n",
       "    <tr>\n",
       "      <th>4</th>\n",
       "      <td>0</td>\n",
       "      <td>0</td>\n",
       "      <td>0</td>\n",
       "      <td>0</td>\n",
       "      <td>0</td>\n",
       "      <td>0</td>\n",
       "      <td>0</td>\n",
       "      <td>0</td>\n",
       "      <td>0</td>\n",
       "      <td>0</td>\n",
       "    </tr>\n",
       "  </tbody>\n",
       "</table>\n",
       "</div>"
      ],
      "text/plain": [
       "   Ad 1  Ad 2  Ad 3  Ad 4  Ad 5  Ad 6  Ad 7  Ad 8  Ad 9  Ad 10\n",
       "0     1     0     0     0     1     0     0     0     1      0\n",
       "1     0     0     0     0     0     0     0     0     1      0\n",
       "2     0     0     0     0     0     0     0     0     0      0\n",
       "3     0     1     0     0     0     0     0     1     0      0\n",
       "4     0     0     0     0     0     0     0     0     0      0"
      ]
     },
     "execution_count": 2,
     "metadata": {},
     "output_type": "execute_result"
    }
   ],
   "source": [
    "# Import the dataset\n",
    "dataset = pd.read_csv('Ads_CTR_Optimisation.csv')\n",
    "dataset.head()"
   ]
  },
  {
   "cell_type": "markdown",
   "metadata": {},
   "source": [
    "O dataset são 10 banners (colunas) e 1000 usuários. Cada vez que o banner é exibido e o usuário clica, então o valor fica 1, senão fica 0.\n",
    "\n",
    "Foi criado um algoritmo `random_selection.py`, onde é executado um loop de 10000, onde para cada rodada, é selecionado um banner (1 a 10) e é exibido para um usuário. Uma pontiação positiva é dada caso o usuário clique nesse banner (dataset acima) e no final é computado a recompensa final."
   ]
  },
  {
   "cell_type": "code",
   "execution_count": null,
   "metadata": {
    "collapsed": true
   },
   "outputs": [],
   "source": [
    "import math\n",
    "# Implementing UCB\n",
    "N = 10000 # Quantidae de rodadas\n",
    "d = 10\n",
    "ads_selected = []\n",
    "\n",
    "\n",
    "number_of_selections = [0] * d\n",
    "sums_of_rewards = [0] * d\n",
    "\n",
    "\n",
    "# para cada rodada\n",
    "for n in range(0, N):\n",
    "    ad = 0\n",
    "    max_upper_bound = 0\n",
    "    # Para cada ad\n",
    "    for i in range(0, d):\n",
    "        average_reward = sums_of_rewards[i] / number_of_selections[i]\n",
    "        delta_i = math.sqrt(3/2 * log(n)/number_of_selections[i])\n",
    "        upper_bound = average_reward + delta_i\n",
    "        if upper_bound > max_upper_bound:\n",
    "            max_upper_bound = upper_bound # Guardar o maior upper bound\n",
    "            ad = i # Guardar qual ad tem o maior upper bound\n",
    "        "
   ]
  }
 ],
 "metadata": {
  "kernelspec": {
   "display_name": "Python [conda root]",
   "language": "python",
   "name": "conda-root-py"
  },
  "language_info": {
   "codemirror_mode": {
    "name": "ipython",
    "version": 3
   },
   "file_extension": ".py",
   "mimetype": "text/x-python",
   "name": "python",
   "nbconvert_exporter": "python",
   "pygments_lexer": "ipython3",
   "version": "3.5.2"
  }
 },
 "nbformat": 4,
 "nbformat_minor": 1
}
