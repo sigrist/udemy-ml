{
 "cells": [
  {
   "cell_type": "markdown",
   "metadata": {},
   "source": [
    "# Reinforcement Learning\n",
    "\n",
    "Basicamente, damos todas as possibilidades de ações que podem ser feitas, e toda vez que uma ação boa é feita, é dado uma recompensa, toda vez que uma ação ruim é feita, uma punição é dada.\n",
    "\n",
    "Exemplo é um cachorro robo. Ao invés de programar como andar, é inserido todos os movimentos possíveis e deixar o algoritmo sozinho decidir como andar. Cada ação correta é recompensada e cada vez que cai, ele é punido.\n",
    "\n",
    "\n",
    "## The Multi-Armed Bandit Problem\n",
    "\n",
    "Voce tem por exemplo 5 máquinas caça níquel, D1 até D5. Cada uma dessas máquinas tem uma distribuição de resultados, e voce não sabe qual é. Voce precisa descobrir qual é a melhor distribuição entre essas máquinas, para saber qual é a melhor para voce jogar e ter o melhor resultado.\n",
    "\n",
    "![](rl-01.png)\n",
    "\n",
    "\n",
    "Outro exemplo seria para propaganda. Voce tem 5 campanhas publicitarias. Como saber qual é a melhor?\n",
    "\n"
   ]
  },
  {
   "cell_type": "code",
   "execution_count": null,
   "metadata": {
    "collapsed": true
   },
   "outputs": [],
   "source": []
  }
 ],
 "metadata": {
  "anaconda-cloud": {},
  "kernelspec": {
   "display_name": "Python [conda root]",
   "language": "python",
   "name": "conda-root-py"
  },
  "language_info": {
   "codemirror_mode": {
    "name": "ipython",
    "version": 3
   },
   "file_extension": ".py",
   "mimetype": "text/x-python",
   "name": "python",
   "nbconvert_exporter": "python",
   "pygments_lexer": "ipython3",
   "version": "3.5.2"
  }
 },
 "nbformat": 4,
 "nbformat_minor": 1
}
